{
 "cells": [
  {
   "cell_type": "code",
   "execution_count": 8,
   "id": "f3144ea6",
   "metadata": {},
   "outputs": [],
   "source": [
    "x=10\n",
    "y=11\n",
    "z=x+y\n"
   ]
  },
  {
   "cell_type": "code",
   "execution_count": 9,
   "id": "28c90962",
   "metadata": {},
   "outputs": [
    {
     "data": {
      "text/plain": [
       "21"
      ]
     },
     "execution_count": 9,
     "metadata": {},
     "output_type": "execute_result"
    }
   ],
   "source": [
    "z"
   ]
  },
  {
   "cell_type": "markdown",
   "id": "99ec75f3",
   "metadata": {},
   "source": [
    "Hello!"
   ]
  },
  {
   "cell_type": "code",
   "execution_count": 1,
   "id": "815fb413",
   "metadata": {},
   "outputs": [],
   "source": [
    "import pandas as pd \n",
    "import numpy as np "
   ]
  },
  {
   "cell_type": "code",
   "execution_count": null,
   "id": "238049ed",
   "metadata": {},
   "outputs": [],
   "source": []
  }
 ],
 "metadata": {
  "kernelspec": {
   "display_name": "Python 3 (ipykernel)",
   "language": "python",
   "name": "python3"
  },
  "language_info": {
   "codemirror_mode": {
    "name": "ipython",
    "version": 3
   },
   "file_extension": ".py",
   "mimetype": "text/x-python",
   "name": "python",
   "nbconvert_exporter": "python",
   "pygments_lexer": "ipython3",
   "version": "3.9.7"
  }
 },
 "nbformat": 4,
 "nbformat_minor": 5
}
